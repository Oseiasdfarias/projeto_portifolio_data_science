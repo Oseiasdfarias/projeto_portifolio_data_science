{
 "cells": [
  {
   "cell_type": "markdown",
   "id": "f63a41d7-22e3-4651-abef-7176768f42b7",
   "metadata": {
    "editable": true,
    "slideshow": {
     "slide_type": ""
    },
    "tags": []
   },
   "source": [
    "<center> <h1 style=\"background-color:seagreen; color:white\" > <br>Análise e Visualização de Dados da Geração Distribuída Fotovoltaica no Brasil <br></h1></center> \n",
    "\n",
    "<center> <h4 style=\"background-color:DarkKhaki; color:white\" > <br>Análise e Visualização dos dados da relação de empreendimentos de Geração Distribuída Fotovoltaica no Brail disponibilizado pela Aneel - (Agência Nacional de Energia Elétrica) <br></h4></center> "
   ]
  },
  {
   "cell_type": "markdown",
   "id": "bfb31e7a-47a3-4025-8d48-7e02e070b689",
   "metadata": {},
   "source": [
    "A Resolução Normativa ANEEL no 482/2012, em vigor desde 17 de abril de 2012, permitiu aos consumidores brasileiros a geração própria de energia elétrica a partir de fontes renováveis ou cogeração qualificada. Este novo modelo, denominado Geração Distribuída de Energia, possibilita que residências, empresas e indústrias se tornem geradoras de energia, podendo inclusive fornecer o excedente para a rede de distribuição local. As unidades consumidoras estão localizadas próximas às geradoras, reduzindo a sobrecarga no sistema de transmissão, e em algumas modalidades, unidades de consumo distantes também podem se beneficiar da energia gerada. A geração distribuída consiste em pequenas unidades geradoras localizadas próximas ao local de consumo, utilizando fontes de energia renováveis. Essa abordagem representa uma alternativa à geração centralizada, que envolve grandes usinas distantes dos centros consumidores.\n",
    "\n",
    "O Dataset trata de dados referentes aos micro e minigeradores distribuídos, abrangidos pela Resolução Normativa nº 482/2012. A relação dos empreendimentos é classificada pelas variáveis que compõem sua identificação, quais sejam:\n",
    "\n",
    "<ul>\n",
    "    <li>Distribuidora conectada;</li>\n",
    "    <li>Código do empreendimento; </li>\n",
    "    <li>Núcleo numérico do código do empreendimento; </li>\n",
    "    <li>Nome do titular; </li>\n",
    "    <li>Classe de produção; </li>\n",
    "    <li>Subgrupo; </li>\n",
    "    <li>Quantidade de unidades consumidoras que recebem os créditos;</li>\n",
    "    <li>Data da conexão;</li>\n",
    "    <li>Tipo de unidade produtora;</li>\n",
    "    <li>Fonte;</li>\n",
    "    <li>Potência instalada;</li>\n",
    "    <li>Município e unidade de federação onde está localizada. </li>\n",
    "</ul>\n",
    "\n",
    "Os dados são expressos em quantidades e potência instalada em kW (quilowatt). A quantidade corresponde ao número de micro ou minigeradores distribuídos instalados no período especificado. A potência instalada é definida pelo somatório da potência elétrica ativa nominal das unidades geradoras.\n",
    "\n",
    "A unidade de energia elétrica atualmente utilizada pela ANEEL é o kWh (quilowatt-hora) ou o MWh (megawatt-hora).\n",
    "\n"
   ]
  },
  {
   "cell_type": "code",
   "execution_count": 130,
   "id": "2d495f9d-ac50-44f5-874c-f53fed75fec7",
   "metadata": {},
   "outputs": [],
   "source": [
    "import pandas as pd\n",
    "import numpy as np\n",
    "from matplotlib import pyplot as plt\n",
    "import seaborn as sns\n",
    "\n",
    "%matplotlib inline\n",
    "sns.set_theme(context='notebook', style='darkgrid', palette='deep')\n"
   ]
  },
  {
   "cell_type": "markdown",
   "id": "9994d113-9e5a-40f6-96f7-331f087b823d",
   "metadata": {},
   "source": [
    "### Carregando a base de dados"
   ]
  },
  {
   "cell_type": "code",
   "execution_count": 131,
   "id": "0b0e12fd-ca28-4c40-a891-e756f807aed6",
   "metadata": {},
   "outputs": [],
   "source": [
    "df = pd.read_csv(\"empreendimento-gd-informacoes-tecnicas-fotovoltaica.csv\")"
   ]
  },
  {
   "cell_type": "code",
   "execution_count": 132,
   "id": "531dcb29-e40d-4cc3-983c-ebf4e5abf76f",
   "metadata": {},
   "outputs": [
    {
     "data": {
      "text/html": [
       "<div>\n",
       "<style scoped>\n",
       "    .dataframe tbody tr th:only-of-type {\n",
       "        vertical-align: middle;\n",
       "    }\n",
       "\n",
       "    .dataframe tbody tr th {\n",
       "        vertical-align: top;\n",
       "    }\n",
       "\n",
       "    .dataframe thead th {\n",
       "        text-align: right;\n",
       "    }\n",
       "</style>\n",
       "<table border=\"1\" class=\"dataframe\">\n",
       "  <thead>\n",
       "    <tr style=\"text-align: right;\">\n",
       "      <th></th>\n",
       "      <th>_id</th>\n",
       "      <th>DatGeracaoConjuntoDados</th>\n",
       "      <th>CodGeracaoDistribuida</th>\n",
       "      <th>MdaAreaArranjo</th>\n",
       "      <th>MdaPotenciaInstalada</th>\n",
       "      <th>NomFabricanteModulo</th>\n",
       "      <th>NomFabricanteInversor</th>\n",
       "      <th>DatConexao</th>\n",
       "      <th>MdaPotenciaModulos</th>\n",
       "      <th>MdaPotenciaInversores</th>\n",
       "      <th>QtdModulos</th>\n",
       "      <th>NomModeloModulo</th>\n",
       "      <th>NomModeloInversor</th>\n",
       "    </tr>\n",
       "  </thead>\n",
       "  <tbody>\n",
       "    <tr>\n",
       "      <th>0</th>\n",
       "      <td>1</td>\n",
       "      <td>2024-01-30T00:00:00</td>\n",
       "      <td>GD.MG.000.010.856</td>\n",
       "      <td>18,00</td>\n",
       "      <td>2,34</td>\n",
       "      <td>risen</td>\n",
       "      <td>b&amp;b</td>\n",
       "      <td>2017-05-30T00:00:00</td>\n",
       "      <td>2,34</td>\n",
       "      <td>2,34</td>\n",
       "      <td>9</td>\n",
       "      <td></td>\n",
       "      <td></td>\n",
       "    </tr>\n",
       "    <tr>\n",
       "      <th>1</th>\n",
       "      <td>2</td>\n",
       "      <td>2024-01-30T00:00:00</td>\n",
       "      <td>GD.RS.000.010.924</td>\n",
       "      <td>23,28</td>\n",
       "      <td>3,00</td>\n",
       "      <td>Canadian Solar</td>\n",
       "      <td>Fronius</td>\n",
       "      <td>2017-05-11T00:00:00</td>\n",
       "      <td>3,20</td>\n",
       "      <td>3,00</td>\n",
       "      <td>10</td>\n",
       "      <td>CS6X-320P</td>\n",
       "      <td>Primo 3.0-1</td>\n",
       "    </tr>\n",
       "    <tr>\n",
       "      <th>2</th>\n",
       "      <td>3</td>\n",
       "      <td>2024-01-30T00:00:00</td>\n",
       "      <td>GD.SP.000.010.974</td>\n",
       "      <td>24,00</td>\n",
       "      <td>3,00</td>\n",
       "      <td>CSUN</td>\n",
       "      <td>AP SYSTEMS</td>\n",
       "      <td>2017-05-19T00:00:00</td>\n",
       "      <td>3,72</td>\n",
       "      <td>3,00</td>\n",
       "      <td>12</td>\n",
       "      <td>CSUN -72P 310 KW</td>\n",
       "      <td>YC500</td>\n",
       "    </tr>\n",
       "    <tr>\n",
       "      <th>3</th>\n",
       "      <td>4</td>\n",
       "      <td>2024-01-30T00:00:00</td>\n",
       "      <td>GD.RS.000.010.988</td>\n",
       "      <td>21,56</td>\n",
       "      <td>3,63</td>\n",
       "      <td>SunEdison</td>\n",
       "      <td>Fronius</td>\n",
       "      <td>2017-05-24T00:00:00</td>\n",
       "      <td>3,63</td>\n",
       "      <td>4,00</td>\n",
       "      <td>11</td>\n",
       "      <td>SE-F330BMC34</td>\n",
       "      <td>Primo 4.0-1</td>\n",
       "    </tr>\n",
       "    <tr>\n",
       "      <th>4</th>\n",
       "      <td>5</td>\n",
       "      <td>2024-01-30T00:00:00</td>\n",
       "      <td>GD.SP.000.011.006</td>\n",
       "      <td>14,40</td>\n",
       "      <td>2,38</td>\n",
       "      <td>Canadian</td>\n",
       "      <td>Fronius</td>\n",
       "      <td>2017-05-18T00:00:00</td>\n",
       "      <td>2,38</td>\n",
       "      <td>2,50</td>\n",
       "      <td>9</td>\n",
       "      <td>CS6P 265 Wp</td>\n",
       "      <td>Galvo 2.5</td>\n",
       "    </tr>\n",
       "  </tbody>\n",
       "</table>\n",
       "</div>"
      ],
      "text/plain": [
       "   _id DatGeracaoConjuntoDados CodGeracaoDistribuida MdaAreaArranjo   \n",
       "0    1     2024-01-30T00:00:00     GD.MG.000.010.856          18,00  \\\n",
       "1    2     2024-01-30T00:00:00     GD.RS.000.010.924          23,28   \n",
       "2    3     2024-01-30T00:00:00     GD.SP.000.010.974          24,00   \n",
       "3    4     2024-01-30T00:00:00     GD.RS.000.010.988          21,56   \n",
       "4    5     2024-01-30T00:00:00     GD.SP.000.011.006          14,40   \n",
       "\n",
       "  MdaPotenciaInstalada NomFabricanteModulo NomFabricanteInversor   \n",
       "0                 2,34               risen                   b&b  \\\n",
       "1                 3,00      Canadian Solar               Fronius   \n",
       "2                 3,00                CSUN            AP SYSTEMS   \n",
       "3                 3,63           SunEdison               Fronius   \n",
       "4                 2,38            Canadian               Fronius   \n",
       "\n",
       "            DatConexao MdaPotenciaModulos MdaPotenciaInversores  QtdModulos   \n",
       "0  2017-05-30T00:00:00               2,34                  2,34           9  \\\n",
       "1  2017-05-11T00:00:00               3,20                  3,00          10   \n",
       "2  2017-05-19T00:00:00               3,72                  3,00          12   \n",
       "3  2017-05-24T00:00:00               3,63                  4,00          11   \n",
       "4  2017-05-18T00:00:00               2,38                  2,50           9   \n",
       "\n",
       "    NomModeloModulo NomModeloInversor  \n",
       "0                                      \n",
       "1         CS6X-320P       Primo 3.0-1  \n",
       "2  CSUN -72P 310 KW             YC500  \n",
       "3      SE-F330BMC34       Primo 4.0-1  \n",
       "4       CS6P 265 Wp         Galvo 2.5  "
      ]
     },
     "execution_count": 132,
     "metadata": {},
     "output_type": "execute_result"
    }
   ],
   "source": [
    "df.head()"
   ]
  },
  {
   "cell_type": "code",
   "execution_count": 133,
   "id": "1139f379-7916-48c4-97b0-e77949aa9ded",
   "metadata": {},
   "outputs": [
    {
     "name": "stdout",
     "output_type": "stream",
     "text": [
      "<class 'pandas.core.frame.DataFrame'>\n",
      "RangeIndex: 346000 entries, 0 to 345999\n",
      "Data columns (total 13 columns):\n",
      " #   Column                   Non-Null Count   Dtype \n",
      "---  ------                   --------------   ----- \n",
      " 0   _id                      346000 non-null  int64 \n",
      " 1   DatGeracaoConjuntoDados  346000 non-null  object\n",
      " 2   CodGeracaoDistribuida    346000 non-null  object\n",
      " 3   MdaAreaArranjo           346000 non-null  object\n",
      " 4   MdaPotenciaInstalada     346000 non-null  object\n",
      " 5   NomFabricanteModulo      345998 non-null  object\n",
      " 6   NomFabricanteInversor    346000 non-null  object\n",
      " 7   DatConexao               346000 non-null  object\n",
      " 8   MdaPotenciaModulos       346000 non-null  object\n",
      " 9   MdaPotenciaInversores    346000 non-null  object\n",
      " 10  QtdModulos               346000 non-null  int64 \n",
      " 11  NomModeloModulo          345998 non-null  object\n",
      " 12  NomModeloInversor        345970 non-null  object\n",
      "dtypes: int64(2), object(11)\n",
      "memory usage: 34.3+ MB\n"
     ]
    }
   ],
   "source": [
    "df.info()"
   ]
  },
  {
   "cell_type": "markdown",
   "id": "b9d1077b-260f-4601-8c4b-82744571eaa3",
   "metadata": {},
   "source": [
    "<center> <h1 style=\"background-color:seagreen; color:white\" > <br>Descrição dos atribultos da tabela <br></h1></center> \n",
    "\n",
    "\n",
    "| **Nome do Campo**  | **Tipo do dado** | **Tamanho do Campo** | **Descrição** |\n",
    "| -------------------| -----------------| ---------------------| --------------|\n",
    "| DatGeracaoConjuntoDados | Data Simples |  |  Data do processamento de carga automática no momento da geração para publicação do conjunto de dados abertos. |\n",
    "| CodGeracaoDistribuida | Cadeia de caracteres | 21 | Código da Unidade Geradora |\n",
    "| MdaAreaArranjo | Numérico | 8,2  | Total da área de Arranjo |\n",
    "| MdaPotenciaInstalada  | Numérico  | 6,2 |  Medida da potência instalada |\n",
    "| NomFabricanteModulo | Cadeia de caracteres | 100 | Nome do fabricante do módulo |\n",
    "| NomFabricanteInversor  | Cadeia de caracteres | 100 | Nome do fabricante do inversor |\n",
    "| DatConexao | Data Simples |  | Data da conexão da Unidade Geradora |\n",
    "| MdaPotenciaModulos | Numérico | 6,2 | Armazena os dados expressos em quantidades e potência dos módulos em MW (quilowatt), definida pela somatória das potências elétricas ativas nominais dos módulos da central de geração distribuída |\n",
    "| MdaPotenciaInversores | Numérico | 6,2 | Armazena os dados expressos em quantidades e potência dos inversores em MW (quilowatt), definida pela somatória das potências elétricas ativas nominais dos módulos da central de geração distribuída |\n",
    "| QtdModulos | Numérico | 10 | Quantidade de Módulos |\n",
    "| NomModeloModulo |  Cadeia de caracteres | 100 | Nome do modelo do Módulo |\n",
    "| NomModeloInversor | Cadeia de caracteres | 100 | Nome do modelo do Inversor |\n"
   ]
  },
  {
   "cell_type": "markdown",
   "id": "2137b245-1bc7-47a0-9155-68ad02e7868d",
   "metadata": {},
   "source": [
    "<center> <h1 style=\"background-color:seagreen; color:white\" > <br>Análise Exploratória de Dados <br></h1></center> "
   ]
  },
  {
   "cell_type": "markdown",
   "id": "26b2257f-2934-443a-87a5-dac8b4d2ff6e",
   "metadata": {},
   "source": [
    "<center> <h3 style=\"background-color:#868661; color:white\" > <br>Tratamento dos dados numéricos <br></h3></center>\n",
    "\n",
    "\n",
    "Convertendo os dados numericos para a notação que a linguagem de programação entenda, para isso é necessário substituir a virgula por ponto e depois converter a informação que antes erá uma string python para um valor numérico, para esse processo foi usado o método **.aplly()** além disso, usou-se o método array do NumPy para converter os dados em numéricos float32.\n",
    "\n",
    "Colunas convertidas: \n",
    "\n",
    "<ul>\n",
    "    <li>MdaAreaArranjo</li>\n",
    "    <li>MdaPotenciaInstalada</li>\n",
    "    <li>MdaPotenciaModulos</li>\n",
    "    <li>MdaPotenciaInversores</li>\n",
    "</ul>\n",
    "\n",
    "\n",
    "Antes:\n",
    "`18,00` String\n",
    "\n",
    "Depois:\n",
    "`18.00` float32\n"
   ]
  },
  {
   "cell_type": "code",
   "execution_count": 134,
   "id": "6d514e4f-12b0-4765-973a-8caabcdef6ef",
   "metadata": {},
   "outputs": [],
   "source": [
    "df[\"MdaAreaArranjo\"] = np.array(df[\"MdaAreaArranjo\"].apply(lambda x: x.replace(\",\", \".\")), dtype=\"float32\")\n",
    "df[\"MdaPotenciaInstalada\"] = np.array(df[\"MdaPotenciaInstalada\"].apply(lambda x: x.replace(\",\", \".\")), dtype=\"float32\")\n",
    "df[\"MdaPotenciaModulos\"] = np.array(df[\"MdaPotenciaModulos\"].apply(lambda x: x.replace(\",\", \".\")), dtype=\"float32\")\n",
    "df[\"MdaPotenciaInversores\"] = np.array(df[\"MdaPotenciaInversores\"].apply(lambda x: x.replace(\",\", \".\")), dtype=\"float32\")\n",
    "df[\"QtdModulos\"] = np.array(df[\"QtdModulos\"].apply(lambda x: float(x)), dtype=\"float32\")"
   ]
  },
  {
   "cell_type": "markdown",
   "id": "77c26cc6-f3df-4faf-8a14-134b857f697a",
   "metadata": {},
   "source": [
    "<center> <h3 style=\"background-color:#868661; color:white\" > <br>Convertendo as colunas de data para o tipo <strong>datitime</strong> do pandas <br></h3></center>\n",
    "\n",
    "Para realizar essa conversão usa-se o método `.to_datitime()`, as colunas `DatGeracaoConjuntoDados`e `DatConexao` serão convertidas para esse formato."
   ]
  },
  {
   "cell_type": "code",
   "execution_count": 135,
   "id": "d4674152-77fb-4919-8e0c-277ee1e36a58",
   "metadata": {},
   "outputs": [],
   "source": [
    "df[\"DatGeracaoConjuntoDados\"] = pd.to_datetime(df[\"DatGeracaoConjuntoDados\"])\n",
    "df[\"DatConexao\"] = pd.to_datetime(df[\"DatConexao\"])"
   ]
  },
  {
   "cell_type": "markdown",
   "id": "a5996519-e637-4f90-9b98-d6e8587bb6e3",
   "metadata": {},
   "source": [
    "<center> <h3 style=\"background-color:#868661; color:white\" > <br>Criando atribultos Ano, Mês e Dia <br></h3></center>"
   ]
  },
  {
   "cell_type": "code",
   "execution_count": null,
   "id": "d16ed594-cab8-415b-90a4-e17523b82527",
   "metadata": {},
   "outputs": [],
   "source": [
    "df[\"Year\"] = df[\"DatConexao\"].apply(lambda x: x.year)\n",
    "df[\"Month\"] = df[\"DatConexao\"].apply(lambda x: x.month)\n",
    "df[\"Day\"] = df[\"DatConexao\"].apply(lambda x: x.day)"
   ]
  },
  {
   "cell_type": "code",
   "execution_count": null,
   "id": "dbf5a548-b573-454d-ad1f-f1e0008d0aeb",
   "metadata": {
    "scrolled": true
   },
   "outputs": [],
   "source": [
    "df.head(-1)"
   ]
  },
  {
   "cell_type": "code",
   "execution_count": null,
   "id": "20ec35e1-201a-422f-abae-e11a08a68729",
   "metadata": {},
   "outputs": [],
   "source": [
    "df.info()"
   ]
  },
  {
   "cell_type": "markdown",
   "id": "ba7e605c-8c98-4262-b1b1-68420a458406",
   "metadata": {},
   "source": [
    "<center> <h1 style=\"background-color:seagreen; color:white\" > <br>Plotando a Distribuição de Atribultos ​​do conjunto de dados <br></h1></center> "
   ]
  },
  {
   "cell_type": "code",
   "execution_count": null,
   "id": "6d1b3a96-d734-401d-af7b-c721f43b09b4",
   "metadata": {
    "scrolled": true
   },
   "outputs": [],
   "source": [
    "def data_for_date(year: int, month: int = None, day: int = None):\n",
    "    \"\"\"\n",
    "    Attributes:\n",
    "        year: numeric\n",
    "        month: numeric\n",
    "        day: numeric\n",
    "    \"\"\"\n",
    "    if not (month and day):\n",
    "        return df[df[\"Year\"] == year]\n",
    "    elif (month and (not day)):\n",
    "        return df[(df[\"Month\"] == year) & (df[column_date[1]] == month)]\n",
    "    elif (month and  day):\n",
    "        return df[(df[\"Day\"] == year) & (df[column_date[1]] == month) & (df[column_date[2]] == day)]\n"
   ]
  },
  {
   "cell_type": "code",
   "execution_count": null,
   "id": "3a7eaa16-7196-47f7-aa17-b7940ab302c4",
   "metadata": {},
   "outputs": [],
   "source": [
    "df_datconexao_2017 = data_for_date(year=2017, month=12)\n",
    "df_datconexao_2017"
   ]
  },
  {
   "cell_type": "markdown",
   "id": "1494bc05-502b-4a40-9b72-610533c9e98d",
   "metadata": {},
   "source": [
    "<center> <h2 style=\"background-color:#27AE60 ; color:white\" > <br>Estratificação dos atribultos do ano de 2017 <br></h2></center>"
   ]
  },
  {
   "cell_type": "code",
   "execution_count": null,
   "id": "2b59b2a5-3885-491b-b23b-d69e17c47c9e",
   "metadata": {},
   "outputs": [],
   "source": [
    "sns.pairplot(df_datconexao_2017[df_datconexao_2017[\"MdaPotenciaInstalada\"] < 150],\n",
    "             x_vars=[\"MdaAreaArranjo\", \"MdaPotenciaInstalada\", \"MdaPotenciaModulos\", \"QtdModulos\"],\n",
    "             y_vars=[\"MdaAreaArranjo\", \"MdaPotenciaInstalada\", \"MdaPotenciaModulos\", \"QtdModulos\"])"
   ]
  },
  {
   "cell_type": "code",
   "execution_count": null,
   "id": "c6bcbfad-e6db-4b88-99ae-94f81e5ab88a",
   "metadata": {},
   "outputs": [],
   "source": [
    "plt.figure(figsize=(7, 5))\n",
    "sns.lineplot(data=df_datconexao_2017, x=\"MdaPotenciaInstalada\", y=\"QtdModulos\")\n",
    "plt.title(\"Potência Instalada por Quantidade de Módulos\")\n",
    "plt.xlabel(\"Potência Instalada\")\n",
    "plt.ylabel(\"Quantidade de Módulos\")\n",
    "plt.show()"
   ]
  },
  {
   "cell_type": "markdown",
   "id": "115c1580-ea57-4f99-95f9-bfb134e632ea",
   "metadata": {},
   "source": [
    "<center> <h3 style=\"background-color:#868661; color:white\" > <br>Dados anuais do setor <br></h3></center>"
   ]
  },
  {
   "cell_type": "code",
   "execution_count": null,
   "id": "286f7a6d-e40e-4354-ac93-7e2f80d161cf",
   "metadata": {},
   "outputs": [],
   "source": [
    "df_datconexao_2017.info()"
   ]
  },
  {
   "cell_type": "markdown",
   "id": "2e2b8038-8d02-4771-82da-5b9ff4ef06e5",
   "metadata": {},
   "source": [
    "\n",
    "**Medida da potência instalada**"
   ]
  },
  {
   "cell_type": "code",
   "execution_count": null,
   "id": "dffb9d8b-b442-41ed-9d08-60f9f2da456b",
   "metadata": {},
   "outputs": [],
   "source": [
    "def info_generation(df_datconexao):\n",
    "    soma_potencia = df_datconexao[\"MdaPotenciaInstalada\"].sum()\n",
    "    media_potencia_inst = df_datconexao[\"MdaPotenciaInstalada\"].mean()\n",
    "    qt_instalacao_ano = df_datconexao[\"DatConexao\"].count()\n",
    "    qt_fabricante_inversores_ano = df_datconexao[\"NomFabricanteInversor\"].nunique()\n",
    "\n",
    "    data = {\"soma_potencia\": soma_potencia,\n",
    "             \"media_potencia_inst\": media_potencia_inst,\n",
    "             \"qt_instalacao_ano\": qt_instalacao_ano,\n",
    "             \"qt_fabricante_inversores_ano\": qt_fabricante_inversores_ano}\n",
    "\n",
    "    return data\n",
    "\n",
    "\n",
    "\n"
   ]
  },
  {
   "cell_type": "markdown",
   "id": "9eff2532-630f-4066-8214-f4e72a91ed08",
   "metadata": {},
   "source": [
    "<center> <h3 style=\"background-color:#868661; color:white\" > <br>Informação de sistemas fotovoltaicos anuais<br></h3></center>"
   ]
  },
  {
   "cell_type": "code",
   "execution_count": null,
   "id": "6864e65a-2ac4-4bb7-8b1c-9a0208dd68c4",
   "metadata": {},
   "outputs": [],
   "source": [
    "arrays = [[], [], [], [], []]\n",
    "\n",
    "for ano in np.sort(df[\"Year\"].unique()):\n",
    "    data = info_generation(data_for_date(year=ano))\n",
    "    arrays[0].append(ano)\n",
    "    arrays[1].append(data[\"soma_potencia\"])\n",
    "    arrays[2].append(data[\"media_potencia_inst\"])\n",
    "    arrays[3].append(data[\"qt_instalacao_ano\"])\n",
    "    arrays[4].append(data[\"qt_fabricante_inversores_ano\"])\n",
    "info_anual = pd.DataFrame(np.transpose(arrays),\n",
    "                          columns=[\"ano\", \"soma_potencia\", \"media_potencia_inst\",\n",
    "                                   \"qt_instalacao_ano\", \"qt_fabricante_inversores_ano\"])\n",
    "info_anual.head(20)"
   ]
  },
  {
   "cell_type": "code",
   "execution_count": null,
   "id": "2e458cc7-aa1d-47db-93cc-21f40e8de06a",
   "metadata": {},
   "outputs": [],
   "source": [
    "plt.figure(figsize=(12, 4))\n",
    "sns.barplot(data=info_anual, x=\"ano\", y=\"soma_potencia\")\n",
    "plt.show()"
   ]
  },
  {
   "cell_type": "code",
   "execution_count": null,
   "id": "a6e5fb50-ce8f-410d-8910-55bd9fa0c916",
   "metadata": {},
   "outputs": [],
   "source": [
    "plt.figure(figsize=(12, 4))\n",
    "sns.barplot(data=info_anual, x=\"ano\", y=\"media_potencia_inst\")\n",
    "plt.show()"
   ]
  },
  {
   "cell_type": "code",
   "execution_count": null,
   "id": "58b845f0-aaef-418d-abdb-44e739d3d821",
   "metadata": {},
   "outputs": [],
   "source": [
    "plt.figure(figsize=(12, 4))\n",
    "sns.barplot(data=info_anual, x=\"ano\", y=\"qt_instalacao_ano\")\n",
    "plt.show()"
   ]
  }
 ],
 "metadata": {
  "kernelspec": {
   "display_name": "Python 3 (ipykernel)",
   "language": "python",
   "name": "python3"
  },
  "language_info": {
   "codemirror_mode": {
    "name": "ipython",
    "version": 3
   },
   "file_extension": ".py",
   "mimetype": "text/x-python",
   "name": "python",
   "nbconvert_exporter": "python",
   "pygments_lexer": "ipython3",
   "version": "3.10.12"
  }
 },
 "nbformat": 4,
 "nbformat_minor": 5
}
