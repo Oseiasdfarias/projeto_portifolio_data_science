{
 "cells": [
  {
   "cell_type": "markdown",
   "id": "f63a41d7-22e3-4651-abef-7176768f42b7",
   "metadata": {},
   "source": [
    "# **Análise e Visualização da Geração Distribuída Fotovoltaica no Brasil**\n",
    "\n",
    "Análise e Visualização da relação de empreendimentos de Geração Distribuída Fotovoltaica"
   ]
  },
  {
   "cell_type": "markdown",
   "id": "7c56b544-6693-4014-be52-0dd763173057",
   "metadata": {},
   "source": [
    "import pandas as pd\n",
    "import numpy as np\n",
    "from matplotlib import pyplot as plt\n",
    "import seaborn as sns"
   ]
  },
  {
   "cell_type": "markdown",
   "id": "9994d113-9e5a-40f6-96f7-331f087b823d",
   "metadata": {},
   "source": [
    "### Carregando a base de dados"
   ]
  },
  {
   "cell_type": "code",
   "execution_count": 8,
   "id": "0b0e12fd-ca28-4c40-a891-e756f807aed6",
   "metadata": {},
   "outputs": [],
   "source": [
    "df = pd.read_csv(\"empreendimento-gd-informacoes-tecnicas-fotovoltaica.csv\")"
   ]
  },
  {
   "cell_type": "code",
   "execution_count": 9,
   "id": "531dcb29-e40d-4cc3-983c-ebf4e5abf76f",
   "metadata": {},
   "outputs": [
    {
     "data": {
      "text/html": [
       "<div>\n",
       "<style scoped>\n",
       "    .dataframe tbody tr th:only-of-type {\n",
       "        vertical-align: middle;\n",
       "    }\n",
       "\n",
       "    .dataframe tbody tr th {\n",
       "        vertical-align: top;\n",
       "    }\n",
       "\n",
       "    .dataframe thead th {\n",
       "        text-align: right;\n",
       "    }\n",
       "</style>\n",
       "<table border=\"1\" class=\"dataframe\">\n",
       "  <thead>\n",
       "    <tr style=\"text-align: right;\">\n",
       "      <th></th>\n",
       "      <th>_id</th>\n",
       "      <th>DatGeracaoConjuntoDados</th>\n",
       "      <th>CodGeracaoDistribuida</th>\n",
       "      <th>MdaAreaArranjo</th>\n",
       "      <th>MdaPotenciaInstalada</th>\n",
       "      <th>NomFabricanteModulo</th>\n",
       "      <th>NomFabricanteInversor</th>\n",
       "      <th>DatConexao</th>\n",
       "      <th>MdaPotenciaModulos</th>\n",
       "      <th>MdaPotenciaInversores</th>\n",
       "      <th>QtdModulos</th>\n",
       "      <th>NomModeloModulo</th>\n",
       "      <th>NomModeloInversor</th>\n",
       "    </tr>\n",
       "  </thead>\n",
       "  <tbody>\n",
       "    <tr>\n",
       "      <th>0</th>\n",
       "      <td>1</td>\n",
       "      <td>2024-01-30T00:00:00</td>\n",
       "      <td>GD.MG.000.010.856</td>\n",
       "      <td>18,00</td>\n",
       "      <td>2,34</td>\n",
       "      <td>risen</td>\n",
       "      <td>b&amp;b</td>\n",
       "      <td>2017-05-30T00:00:00</td>\n",
       "      <td>2,34</td>\n",
       "      <td>2,34</td>\n",
       "      <td>9</td>\n",
       "      <td></td>\n",
       "      <td></td>\n",
       "    </tr>\n",
       "    <tr>\n",
       "      <th>1</th>\n",
       "      <td>2</td>\n",
       "      <td>2024-01-30T00:00:00</td>\n",
       "      <td>GD.RS.000.010.924</td>\n",
       "      <td>23,28</td>\n",
       "      <td>3,00</td>\n",
       "      <td>Canadian Solar</td>\n",
       "      <td>Fronius</td>\n",
       "      <td>2017-05-11T00:00:00</td>\n",
       "      <td>3,20</td>\n",
       "      <td>3,00</td>\n",
       "      <td>10</td>\n",
       "      <td>CS6X-320P</td>\n",
       "      <td>Primo 3.0-1</td>\n",
       "    </tr>\n",
       "    <tr>\n",
       "      <th>2</th>\n",
       "      <td>3</td>\n",
       "      <td>2024-01-30T00:00:00</td>\n",
       "      <td>GD.SP.000.010.974</td>\n",
       "      <td>24,00</td>\n",
       "      <td>3,00</td>\n",
       "      <td>CSUN</td>\n",
       "      <td>AP SYSTEMS</td>\n",
       "      <td>2017-05-19T00:00:00</td>\n",
       "      <td>3,72</td>\n",
       "      <td>3,00</td>\n",
       "      <td>12</td>\n",
       "      <td>CSUN -72P 310 KW</td>\n",
       "      <td>YC500</td>\n",
       "    </tr>\n",
       "    <tr>\n",
       "      <th>3</th>\n",
       "      <td>4</td>\n",
       "      <td>2024-01-30T00:00:00</td>\n",
       "      <td>GD.RS.000.010.988</td>\n",
       "      <td>21,56</td>\n",
       "      <td>3,63</td>\n",
       "      <td>SunEdison</td>\n",
       "      <td>Fronius</td>\n",
       "      <td>2017-05-24T00:00:00</td>\n",
       "      <td>3,63</td>\n",
       "      <td>4,00</td>\n",
       "      <td>11</td>\n",
       "      <td>SE-F330BMC34</td>\n",
       "      <td>Primo 4.0-1</td>\n",
       "    </tr>\n",
       "    <tr>\n",
       "      <th>4</th>\n",
       "      <td>5</td>\n",
       "      <td>2024-01-30T00:00:00</td>\n",
       "      <td>GD.SP.000.011.006</td>\n",
       "      <td>14,40</td>\n",
       "      <td>2,38</td>\n",
       "      <td>Canadian</td>\n",
       "      <td>Fronius</td>\n",
       "      <td>2017-05-18T00:00:00</td>\n",
       "      <td>2,38</td>\n",
       "      <td>2,50</td>\n",
       "      <td>9</td>\n",
       "      <td>CS6P 265 Wp</td>\n",
       "      <td>Galvo 2.5</td>\n",
       "    </tr>\n",
       "  </tbody>\n",
       "</table>\n",
       "</div>"
      ],
      "text/plain": [
       "   _id DatGeracaoConjuntoDados CodGeracaoDistribuida MdaAreaArranjo   \n",
       "0    1     2024-01-30T00:00:00     GD.MG.000.010.856          18,00  \\\n",
       "1    2     2024-01-30T00:00:00     GD.RS.000.010.924          23,28   \n",
       "2    3     2024-01-30T00:00:00     GD.SP.000.010.974          24,00   \n",
       "3    4     2024-01-30T00:00:00     GD.RS.000.010.988          21,56   \n",
       "4    5     2024-01-30T00:00:00     GD.SP.000.011.006          14,40   \n",
       "\n",
       "  MdaPotenciaInstalada NomFabricanteModulo NomFabricanteInversor   \n",
       "0                 2,34               risen                   b&b  \\\n",
       "1                 3,00      Canadian Solar               Fronius   \n",
       "2                 3,00                CSUN            AP SYSTEMS   \n",
       "3                 3,63           SunEdison               Fronius   \n",
       "4                 2,38            Canadian               Fronius   \n",
       "\n",
       "            DatConexao MdaPotenciaModulos MdaPotenciaInversores  QtdModulos   \n",
       "0  2017-05-30T00:00:00               2,34                  2,34           9  \\\n",
       "1  2017-05-11T00:00:00               3,20                  3,00          10   \n",
       "2  2017-05-19T00:00:00               3,72                  3,00          12   \n",
       "3  2017-05-24T00:00:00               3,63                  4,00          11   \n",
       "4  2017-05-18T00:00:00               2,38                  2,50           9   \n",
       "\n",
       "    NomModeloModulo NomModeloInversor  \n",
       "0                                      \n",
       "1         CS6X-320P       Primo 3.0-1  \n",
       "2  CSUN -72P 310 KW             YC500  \n",
       "3      SE-F330BMC34       Primo 4.0-1  \n",
       "4       CS6P 265 Wp         Galvo 2.5  "
      ]
     },
     "execution_count": 9,
     "metadata": {},
     "output_type": "execute_result"
    }
   ],
   "source": [
    "df.head()"
   ]
  },
  {
   "cell_type": "code",
   "execution_count": 10,
   "id": "1139f379-7916-48c4-97b0-e77949aa9ded",
   "metadata": {},
   "outputs": [
    {
     "name": "stdout",
     "output_type": "stream",
     "text": [
      "<class 'pandas.core.frame.DataFrame'>\n",
      "RangeIndex: 346000 entries, 0 to 345999\n",
      "Data columns (total 13 columns):\n",
      " #   Column                   Non-Null Count   Dtype \n",
      "---  ------                   --------------   ----- \n",
      " 0   _id                      346000 non-null  int64 \n",
      " 1   DatGeracaoConjuntoDados  346000 non-null  object\n",
      " 2   CodGeracaoDistribuida    346000 non-null  object\n",
      " 3   MdaAreaArranjo           346000 non-null  object\n",
      " 4   MdaPotenciaInstalada     346000 non-null  object\n",
      " 5   NomFabricanteModulo      345998 non-null  object\n",
      " 6   NomFabricanteInversor    346000 non-null  object\n",
      " 7   DatConexao               346000 non-null  object\n",
      " 8   MdaPotenciaModulos       346000 non-null  object\n",
      " 9   MdaPotenciaInversores    346000 non-null  object\n",
      " 10  QtdModulos               346000 non-null  int64 \n",
      " 11  NomModeloModulo          345998 non-null  object\n",
      " 12  NomModeloInversor        345970 non-null  object\n",
      "dtypes: int64(2), object(11)\n",
      "memory usage: 34.3+ MB\n"
     ]
    }
   ],
   "source": [
    "df.info()"
   ]
  },
  {
   "cell_type": "code",
   "execution_count": null,
   "id": "dd3a8b1a-591f-4437-983b-3d2a0ce09073",
   "metadata": {},
   "outputs": [],
   "source": []
  }
 ],
 "metadata": {
  "kernelspec": {
   "display_name": "Python 3 (ipykernel)",
   "language": "python",
   "name": "python3"
  },
  "language_info": {
   "codemirror_mode": {
    "name": "ipython",
    "version": 3
   },
   "file_extension": ".py",
   "mimetype": "text/x-python",
   "name": "python",
   "nbconvert_exporter": "python",
   "pygments_lexer": "ipython3",
   "version": "3.10.12"
  }
 },
 "nbformat": 4,
 "nbformat_minor": 5
}
